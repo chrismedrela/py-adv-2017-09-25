{
 "cells": [
  {
   "cell_type": "markdown",
   "metadata": {},
   "source": [
    "# Title"
   ]
  },
  {
   "cell_type": "code",
   "execution_count": 1,
   "metadata": {},
   "outputs": [
    {
     "data": {
      "text/plain": [
       "4"
      ]
     },
     "execution_count": 1,
     "metadata": {},
     "output_type": "execute_result"
    }
   ],
   "source": [
    "2 + 2"
   ]
  },
  {
   "cell_type": "markdown",
   "metadata": {},
   "source": [
    "## Ćw.: Klasy jako funkcje\n",
    "\n",
    "Przekształć poniższą klasę na funkcję:\n",
    "\n",
    "```python\n",
    "class CallableClass:\n",
    "    def __init__(self):\n",
    "        self._counter = 0\n",
    "    \n",
    "    def __call__(self):\n",
    "        self._counter += 1\n",
    "        print(\"You have called me {0} times\".format(self._counter))\n",
    "```\n",
    "\n",
    "**Kod początkowy**\n",
    "\n",
    "```python\n",
    "def callable_func():\n",
    "    ...\n",
    "```\n",
    "\n",
    "**Oczekiwane zachowanie**\n",
    "\n",
    "```python\n",
    ">>> f = callable_func()\n",
    ">>> f()\n",
    "You have called me 1 times\n",
    ">>> f()\n",
    "You have called me 2 times\n",
    ">>> f()\n",
    "You have called me 3 times\n",
    "```\n",
    "\n",
    "**Rozwiązanie**\n",
    "\n",
    "```python\n",
    "def callable_func():\n",
    "    counter = 0\n",
    "    def inner():\n",
    "        nonlocal counter\n",
    "        counter += 1\n",
    "        print(\"You have called me {0} times\".format(counter))\n",
    "    return inner\n",
    "```"
   ]
  },
  {
   "cell_type": "markdown",
   "metadata": {},
   "source": [
    "# [Custom Style]"
   ]
  },
  {
   "cell_type": "code",
   "execution_count": 4,
   "metadata": {},
   "outputs": [
    {
     "data": {
      "text/html": [
       "<style>\n",
       "div.text_cell div.prompt {\n",
       "    display: none;\n",
       "}\n",
       "</style>"
      ],
      "text/plain": [
       "<IPython.core.display.HTML object>"
      ]
     },
     "metadata": {},
     "output_type": "display_data"
    }
   ],
   "source": [
    "%%HTML\n",
    "<style>\n",
    "div.text_cell div.prompt {\n",
    "    display: none;\n",
    "}\n",
    "</style>"
   ]
  }
 ],
 "metadata": {
  "kernelspec": {
   "display_name": "Python 3",
   "language": "python",
   "name": "python3"
  },
  "language_info": {
   "codemirror_mode": {
    "name": "ipython",
    "version": 3
   },
   "file_extension": ".py",
   "mimetype": "text/x-python",
   "name": "python",
   "nbconvert_exporter": "python",
   "pygments_lexer": "ipython3",
   "version": "3.5.3"
  }
 },
 "nbformat": 4,
 "nbformat_minor": 2
}
