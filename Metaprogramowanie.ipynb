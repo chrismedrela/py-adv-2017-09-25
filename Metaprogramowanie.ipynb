{
 "cells": [
  {
   "cell_type": "markdown",
   "metadata": {},
   "source": [
    "# Dekoratory"
   ]
  },
  {
   "cell_type": "code",
   "execution_count": 1,
   "metadata": {
    "collapsed": true
   },
   "outputs": [],
   "source": [
    "def shouter(func):\n",
    "    def wrapper():\n",
    "        print(\"Before\", func.__name__)\n",
    "        result = func()\n",
    "        print(\"After\", func.__name__)\n",
    "        return result\n",
    "    return wrapper"
   ]
  },
  {
   "cell_type": "code",
   "execution_count": 8,
   "metadata": {
    "collapsed": true
   },
   "outputs": [],
   "source": [
    "def hellome():\n",
    "    print(\"Leszek\")\n",
    "\n",
    "hellome = shouter(hellome)"
   ]
  },
  {
   "cell_type": "code",
   "execution_count": 3,
   "metadata": {},
   "outputs": [
    {
     "name": "stdout",
     "output_type": "stream",
     "text": [
      "Before hellome\n",
      "Leszek\n",
      "After hellome\n"
     ]
    }
   ],
   "source": [
    "hellome()"
   ]
  },
  {
   "cell_type": "code",
   "execution_count": 5,
   "metadata": {},
   "outputs": [],
   "source": [
    "@shouter\n",
    "def hellome():\n",
    "    print(\"Leszek\")"
   ]
  },
  {
   "cell_type": "code",
   "execution_count": 6,
   "metadata": {},
   "outputs": [
    {
     "name": "stdout",
     "output_type": "stream",
     "text": [
      "Before hellome\n",
      "Leszek\n",
      "After hellome\n"
     ]
    }
   ],
   "source": [
    "hellome()"
   ]
  },
  {
   "cell_type": "code",
   "execution_count": 9,
   "metadata": {},
   "outputs": [
    {
     "name": "stdout",
     "output_type": "stream",
     "text": [
      "asdf\n"
     ]
    }
   ],
   "source": [
    "def hellome_without_decorator():\n",
    "    '''asdf'''\n",
    "    print(\"Leszek\")\n",
    "    \n",
    "print(hellome_without_decorator.__doc__)"
   ]
  },
  {
   "cell_type": "code",
   "execution_count": 6,
   "metadata": {},
   "outputs": [
    {
     "name": "stdout",
     "output_type": "stream",
     "text": [
      "asdf\n"
     ]
    }
   ],
   "source": [
    "import functools\n",
    "\n",
    "def shouter(func):\n",
    "    @functools.wraps(func)\n",
    "    def wrapper():\n",
    "        print(\"Before\", func.__name__)\n",
    "        result = func()\n",
    "        print(\"After\", func.__name__)\n",
    "        return result\n",
    "    # wrapper.__doc__ = func.__doc__\n",
    "    return wrapper\n",
    "\n",
    "@shouter\n",
    "@shouter\n",
    "def hellome():\n",
    "    '''asdf'''\n",
    "    print(\"Leszek\")\n",
    "    \n",
    "print(hellome.__doc__)"
   ]
  },
  {
   "cell_type": "code",
   "execution_count": 7,
   "metadata": {},
   "outputs": [
    {
     "data": {
      "text/plain": [
       "'hellome'"
      ]
     },
     "execution_count": 7,
     "metadata": {},
     "output_type": "execute_result"
    }
   ],
   "source": [
    "hellome.__name__"
   ]
  },
  {
   "cell_type": "code",
   "execution_count": 15,
   "metadata": {},
   "outputs": [
    {
     "name": "stdout",
     "output_type": "stream",
     "text": [
      "Before hellome\n",
      "Before hellome\n",
      "Leszek\n",
      "After hellome\n",
      "After hellome\n"
     ]
    }
   ],
   "source": [
    "hellome()"
   ]
  },
  {
   "cell_type": "code",
   "execution_count": 16,
   "metadata": {},
   "outputs": [
    {
     "data": {
      "text/plain": [
       "42"
      ]
     },
     "execution_count": 16,
     "metadata": {},
     "output_type": "execute_result"
    }
   ],
   "source": [
    "def dummy_decorator(func):\n",
    "    return 42\n",
    "\n",
    "@dummy_decorator\n",
    "def foo():\n",
    "    print('asdf')\n",
    "    \n",
    "foo"
   ]
  },
  {
   "cell_type": "code",
   "execution_count": 17,
   "metadata": {},
   "outputs": [
    {
     "data": {
      "text/plain": [
       "'asdf'"
      ]
     },
     "execution_count": 17,
     "metadata": {},
     "output_type": "execute_result"
    }
   ],
   "source": [
    "def assignment(func):\n",
    "    return func()\n",
    "\n",
    "@assignment\n",
    "def foo():\n",
    "    return 'asdf'\n",
    "    \n",
    "foo"
   ]
  },
  {
   "cell_type": "code",
   "execution_count": 19,
   "metadata": {},
   "outputs": [
    {
     "name": "stdout",
     "output_type": "stream",
     "text": [
      "5\n",
      "<built-in function sum>\n"
     ]
    },
    {
     "ename": "NameError",
     "evalue": "name 'sum' is not defined",
     "output_type": "error",
     "traceback": [
      "\u001b[0;31m---------------------------------------------------------------------------\u001b[0m",
      "\u001b[0;31mNameError\u001b[0m                                 Traceback (most recent call last)",
      "\u001b[0;32m<ipython-input-19-4b4d25f101e5>\u001b[0m in \u001b[0;36m<module>\u001b[0;34m()\u001b[0m\n\u001b[1;32m      3\u001b[0m \u001b[0;32mdel\u001b[0m \u001b[0msum\u001b[0m\u001b[0;34m\u001b[0m\u001b[0m\n\u001b[1;32m      4\u001b[0m \u001b[0mprint\u001b[0m\u001b[0;34m(\u001b[0m\u001b[0msum\u001b[0m\u001b[0;34m)\u001b[0m\u001b[0;34m\u001b[0m\u001b[0m\n\u001b[0;32m----> 5\u001b[0;31m \u001b[0;32mdel\u001b[0m \u001b[0msum\u001b[0m\u001b[0;34m\u001b[0m\u001b[0m\n\u001b[0m\u001b[1;32m      6\u001b[0m \u001b[0mprint\u001b[0m\u001b[0;34m(\u001b[0m\u001b[0msum\u001b[0m\u001b[0;34m)\u001b[0m\u001b[0;34m\u001b[0m\u001b[0m\n",
      "\u001b[0;31mNameError\u001b[0m: name 'sum' is not defined"
     ]
    }
   ],
   "source": [
    "sum = 5\n",
    "print(sum)\n",
    "del sum\n",
    "print(sum)\n",
    "del sum\n",
    "print(sum)"
   ]
  },
  {
   "cell_type": "code",
   "execution_count": 20,
   "metadata": {
    "collapsed": true
   },
   "outputs": [],
   "source": [
    "from builtins import sum"
   ]
  },
  {
   "cell_type": "code",
   "execution_count": 22,
   "metadata": {},
   "outputs": [],
   "source": [
    "import builtins"
   ]
  },
  {
   "cell_type": "code",
   "execution_count": 23,
   "metadata": {
    "collapsed": true
   },
   "outputs": [],
   "source": [
    "del builtins.sum"
   ]
  },
  {
   "cell_type": "markdown",
   "metadata": {},
   "source": [
    "# Dekoratory parametryzowane"
   ]
  },
  {
   "cell_type": "code",
   "execution_count": 9,
   "metadata": {},
   "outputs": [
    {
     "name": "stdout",
     "output_type": "stream",
     "text": [
      "<b>\n",
      "asdf\n",
      "</b>\n"
     ]
    }
   ],
   "source": [
    "import functools\n",
    "\n",
    "def tag(tagname):\n",
    "    def decor(fun):\n",
    "        @functools.wraps(fun)\n",
    "        def wrapper(*args, **kwargs):\n",
    "            print(\"<{0}>\".format(tagname))\n",
    "            ret = fun(*args, **kwargs)\n",
    "            print(\"</{0}>\".format(tagname))\n",
    "            return ret\n",
    "        return wrapper\n",
    "    return decor\n",
    "\n",
    "# decor = tag('b')\n",
    "# output = decor(output)\n",
    "@tag('b')\n",
    "def output(data):\n",
    "    print(data)\n",
    "    \n",
    "output('asdf')"
   ]
  },
  {
   "cell_type": "markdown",
   "metadata": {},
   "source": [
    "# Dekorowanie klas"
   ]
  },
  {
   "cell_type": "code",
   "execution_count": 23,
   "metadata": {},
   "outputs": [
    {
     "name": "stdout",
     "output_type": "stream",
     "text": [
      "addID init\n",
      "Foo class init\n",
      "123\n"
     ]
    }
   ],
   "source": [
    "def addID(original_class):\n",
    "    name = '_{}__id'.format(original_class.__name__)\n",
    "    orig_init = original_class.__init__\n",
    "    def __init__(self, *args, **kws):\n",
    "        print(\"addID init\")\n",
    "        setattr(self, name, 123)\n",
    "        orig_init(self, *args, **kws)\n",
    "\n",
    "    original_class.__init__ = __init__\n",
    "    return original_class\n",
    "\n",
    "@addID\n",
    "class Foo:\n",
    "    def __init__(self):\n",
    "        print(\"Foo class init\")\n",
    "        print(self.__id)\n",
    "        \n",
    "f = Foo()"
   ]
  },
  {
   "cell_type": "code",
   "execution_count": 24,
   "metadata": {},
   "outputs": [
    {
     "data": {
      "text/plain": [
       "123"
      ]
     },
     "execution_count": 24,
     "metadata": {},
     "output_type": "execute_result"
    }
   ],
   "source": [
    "f._Foo__id"
   ]
  },
  {
   "cell_type": "markdown",
   "metadata": {},
   "source": [
    "# functools.partial"
   ]
  },
  {
   "cell_type": "code",
   "execution_count": 25,
   "metadata": {
    "collapsed": true
   },
   "outputs": [],
   "source": [
    "def foo(a, b, c):\n",
    "    return a + b + c"
   ]
  },
  {
   "cell_type": "code",
   "execution_count": 26,
   "metadata": {},
   "outputs": [
    {
     "data": {
      "text/plain": [
       "functools.partial(<function foo at 0x7f52d80f5ea0>, c=0)"
      ]
     },
     "execution_count": 26,
     "metadata": {},
     "output_type": "execute_result"
    }
   ],
   "source": [
    "from functools import partial\n",
    "\n",
    "f = partial(foo, c=0)\n",
    "f"
   ]
  },
  {
   "cell_type": "code",
   "execution_count": 30,
   "metadata": {},
   "outputs": [
    {
     "data": {
      "text/plain": [
       "5"
      ]
     },
     "execution_count": 30,
     "metadata": {},
     "output_type": "execute_result"
    }
   ],
   "source": [
    "f(2, 3)"
   ]
  },
  {
   "cell_type": "code",
   "execution_count": 37,
   "metadata": {},
   "outputs": [
    {
     "data": {
      "text/plain": [
       "5"
      ]
     },
     "execution_count": 37,
     "metadata": {},
     "output_type": "execute_result"
    }
   ],
   "source": [
    "f = lambda *args, **kwargs: foo(*args, **kwargs, c=0)\n",
    "f(2, 3)"
   ]
  },
  {
   "cell_type": "code",
   "execution_count": 29,
   "metadata": {
    "collapsed": true
   },
   "outputs": [],
   "source": [
    "# @partial(timeit, n=1)"
   ]
  },
  {
   "cell_type": "code",
   "execution_count": 39,
   "metadata": {},
   "outputs": [
    {
     "data": {
      "text/plain": [
       "[1, 2, 3, 4]"
      ]
     },
     "execution_count": 39,
     "metadata": {},
     "output_type": "execute_result"
    }
   ],
   "source": [
    "l = [1, 2, 3, 4]\n",
    "l[:6]"
   ]
  },
  {
   "cell_type": "code",
   "execution_count": 40,
   "metadata": {
    "collapsed": true
   },
   "outputs": [],
   "source": [
    "from timeit import timeit"
   ]
  },
  {
   "cell_type": "code",
   "execution_count": 41,
   "metadata": {
    "collapsed": true
   },
   "outputs": [],
   "source": [
    "timeit??"
   ]
  },
  {
   "cell_type": "code",
   "execution_count": 44,
   "metadata": {
    "collapsed": true
   },
   "outputs": [],
   "source": [
    "def limit(n):\n",
    "    def decor(fun):\n",
    "        def wrapper(*args, **kwargs):\n",
    "            out = fun(*args, **kwargs)\n",
    "            return out[:n]\n",
    "        return wrapper\n",
    "    return decor"
   ]
  },
  {
   "cell_type": "code",
   "execution_count": 45,
   "metadata": {
    "collapsed": true
   },
   "outputs": [],
   "source": [
    "import collections"
   ]
  },
  {
   "cell_type": "code",
   "execution_count": 46,
   "metadata": {},
   "outputs": [
    {
     "data": {
      "text/plain": [
       "True"
      ]
     },
     "execution_count": 46,
     "metadata": {},
     "output_type": "execute_result"
    }
   ],
   "source": [
    "g = (i for i in range(5))\n",
    "isinstance(g, collections.Generator)"
   ]
  },
  {
   "cell_type": "code",
   "execution_count": 48,
   "metadata": {},
   "outputs": [
    {
     "data": {
      "text/plain": [
       "True"
      ]
     },
     "execution_count": 48,
     "metadata": {},
     "output_type": "execute_result"
    }
   ],
   "source": [
    "isinstance([], collections.Sequence)"
   ]
  },
  {
   "cell_type": "code",
   "execution_count": 52,
   "metadata": {},
   "outputs": [],
   "source": [
    "from itertools import islice\n",
    "\n",
    "def limit(n):\n",
    "    def decor(fun):\n",
    "        def wrapper(*args, **kwargs):\n",
    "            out = fun(*args, **kwargs)\n",
    "            try:\n",
    "                return out[:n]\n",
    "            except TypeError:\n",
    "                return islice(out, n)\n",
    "        return wrapper\n",
    "    return decor"
   ]
  },
  {
   "cell_type": "code",
   "execution_count": 54,
   "metadata": {},
   "outputs": [
    {
     "data": {
      "text/plain": [
       "[0, 1, 2, 3, 4]"
      ]
     },
     "execution_count": 54,
     "metadata": {},
     "output_type": "execute_result"
    }
   ],
   "source": [
    "@limit(5)\n",
    "def foo():\n",
    "    return (i for i in range(100))\n",
    "\n",
    "list(foo())"
   ]
  },
  {
   "cell_type": "code",
   "execution_count": 60,
   "metadata": {},
   "outputs": [
    {
     "data": {
      "text/plain": [
       "<itertools.islice at 0x7f52d80a6688>"
      ]
     },
     "execution_count": 60,
     "metadata": {},
     "output_type": "execute_result"
    }
   ],
   "source": [
    "import itertools\n",
    "\n",
    "@limit(5)\n",
    "def foo():\n",
    "    yield 'asdf'\n",
    "    yield from itertools.count(1)\n",
    "\n",
    "foo()"
   ]
  },
  {
   "cell_type": "markdown",
   "metadata": {},
   "source": [
    "# Klasy jako dekoratory"
   ]
  },
  {
   "cell_type": "code",
   "execution_count": 61,
   "metadata": {
    "collapsed": true
   },
   "outputs": [],
   "source": [
    "class shout:\n",
    "    def __init__(self, f):\n",
    "        print(\"inside decorator's __init__()\")\n",
    "        self.f = f\n",
    "\n",
    "    def __call__(self):\n",
    "        print(\"before call\")\n",
    "        self.f()\n",
    "        print(\"after call\")"
   ]
  },
  {
   "cell_type": "code",
   "execution_count": 62,
   "metadata": {},
   "outputs": [
    {
     "name": "stdout",
     "output_type": "stream",
     "text": [
      "inside decorator's __init__()\n"
     ]
    }
   ],
   "source": [
    "@shout\n",
    "def function():\n",
    "    print('inside')\n",
    "    \n",
    "# function = shout(function)"
   ]
  },
  {
   "cell_type": "code",
   "execution_count": 63,
   "metadata": {},
   "outputs": [
    {
     "name": "stdout",
     "output_type": "stream",
     "text": [
      "before call\n",
      "inside\n",
      "after call\n"
     ]
    }
   ],
   "source": [
    "function()"
   ]
  },
  {
   "cell_type": "code",
   "execution_count": null,
   "metadata": {
    "collapsed": true
   },
   "outputs": [],
   "source": []
  }
 ],
 "metadata": {
  "kernelspec": {
   "display_name": "Python 3",
   "language": "python",
   "name": "python3"
  },
  "language_info": {
   "codemirror_mode": {
    "name": "ipython",
    "version": 3
   },
   "file_extension": ".py",
   "mimetype": "text/x-python",
   "name": "python",
   "nbconvert_exporter": "python",
   "pygments_lexer": "ipython3",
   "version": "3.5.3"
  }
 },
 "nbformat": 4,
 "nbformat_minor": 2
}
