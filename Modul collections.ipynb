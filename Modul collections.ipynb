{
 "cells": [
  {
   "cell_type": "code",
   "execution_count": 7,
   "metadata": {
    "collapsed": true
   },
   "outputs": [],
   "source": [
    "import collections\n",
    "import math"
   ]
  },
  {
   "cell_type": "markdown",
   "metadata": {},
   "source": [
    "# `namedtuple` "
   ]
  },
  {
   "cell_type": "code",
   "execution_count": 3,
   "metadata": {},
   "outputs": [],
   "source": [
    "Point = collections.namedtuple('Point', 'x y z')"
   ]
  },
  {
   "cell_type": "code",
   "execution_count": 4,
   "metadata": {},
   "outputs": [
    {
     "data": {
      "text/plain": [
       "Point(x=1, y=2, z=3)"
      ]
     },
     "execution_count": 4,
     "metadata": {},
     "output_type": "execute_result"
    }
   ],
   "source": [
    "a = Point(x=1, y=2, z=3)\n",
    "a"
   ]
  },
  {
   "cell_type": "code",
   "execution_count": 6,
   "metadata": {},
   "outputs": [
    {
     "data": {
      "text/plain": [
       "Point(x=2, y=3, z=4)"
      ]
     },
     "execution_count": 6,
     "metadata": {},
     "output_type": "execute_result"
    }
   ],
   "source": [
    "b = Point(2, 3, 4)\n",
    "b"
   ]
  },
  {
   "cell_type": "code",
   "execution_count": 8,
   "metadata": {
    "collapsed": true
   },
   "outputs": [],
   "source": [
    "def distance(a, b):\n",
    "    return math.sqrt(\n",
    "        (a.x - b.x)**2 +\n",
    "        (a.y - b.y)**2 +\n",
    "        (a.z - b.z)**2\n",
    "    )"
   ]
  },
  {
   "cell_type": "code",
   "execution_count": 9,
   "metadata": {},
   "outputs": [
    {
     "data": {
      "text/plain": [
       "1.7320508075688772"
      ]
     },
     "execution_count": 9,
     "metadata": {},
     "output_type": "execute_result"
    }
   ],
   "source": [
    "distance(a, b)"
   ]
  },
  {
   "cell_type": "code",
   "execution_count": 16,
   "metadata": {},
   "outputs": [],
   "source": [
    "Result = collections.namedtuple('Result', 'quotient remainder')\n",
    "\n",
    "def divmod(a, b):\n",
    "    return Result(quotient=a//b, remainder=a%b)"
   ]
  },
  {
   "cell_type": "code",
   "execution_count": 19,
   "metadata": {},
   "outputs": [],
   "source": [
    "res = divmod(9, 2)\n",
    "q, r = divmod(9, 2)"
   ]
  },
  {
   "cell_type": "code",
   "execution_count": 49,
   "metadata": {},
   "outputs": [
    {
     "name": "stdout",
     "output_type": "stream",
     "text": [
      "from builtins import property as _property, tuple as _tuple\n",
      "from operator import itemgetter as _itemgetter\n",
      "from collections import OrderedDict\n",
      "\n",
      "class Point2D(tuple):\n",
      "    'Point2D(x, y)'\n",
      "\n",
      "    __slots__ = ()\n",
      "\n",
      "    _fields = ('x', 'y')\n",
      "\n",
      "    def __new__(_cls, x, y):\n",
      "        'Create new instance of Point2D(x, y)'\n",
      "        return _tuple.__new__(_cls, (x, y))\n",
      "\n",
      "    @classmethod\n",
      "    def _make(cls, iterable, new=tuple.__new__, len=len):\n",
      "        'Make a new Point2D object from a sequence or iterable'\n",
      "        result = new(cls, iterable)\n",
      "        if len(result) != 2:\n",
      "            raise TypeError('Expected 2 arguments, got %d' % len(result))\n",
      "        return result\n",
      "\n",
      "    def _replace(_self, **kwds):\n",
      "        'Return a new Point2D object replacing specified fields with new values'\n",
      "        result = _self._make(map(kwds.pop, ('x', 'y'), _self))\n",
      "        if kwds:\n",
      "            raise ValueError('Got unexpected field names: %r' % list(kwds))\n",
      "        return result\n",
      "\n",
      "    def __repr__(self):\n",
      "        'Return a nicely formatted representation string'\n",
      "        return self.__class__.__name__ + '(x=%r, y=%r)' % self\n",
      "\n",
      "    def _asdict(self):\n",
      "        'Return a new OrderedDict which maps field names to their values.'\n",
      "        return OrderedDict(zip(self._fields, self))\n",
      "\n",
      "    def __getnewargs__(self):\n",
      "        'Return self as a plain tuple.  Used by copy and pickle.'\n",
      "        return tuple(self)\n",
      "\n",
      "    x = _property(_itemgetter(0), doc='Alias for field number 0')\n",
      "\n",
      "    y = _property(_itemgetter(1), doc='Alias for field number 1')\n",
      "\n",
      "\n"
     ]
    }
   ],
   "source": [
    "BasePoint2D = collections.namedtuple('Point2D', 'x y', verbose=True)\n",
    "\n",
    "class Point2D(BasePoint2D):\n",
    "    __slots__ = ()\n",
    "    def distance_to(self, other):\n",
    "        return sqrt((self.x-other.x)**2 + (self.y-other.y)**2)"
   ]
  },
  {
   "cell_type": "code",
   "execution_count": 23,
   "metadata": {},
   "outputs": [
    {
     "data": {
      "text/plain": [
       "()"
      ]
     },
     "execution_count": 23,
     "metadata": {},
     "output_type": "execute_result"
    }
   ],
   "source": [
    "BasePoint2D.__slots__"
   ]
  },
  {
   "cell_type": "code",
   "execution_count": 24,
   "metadata": {},
   "outputs": [
    {
     "data": {
      "text/plain": [
       "(__main__.Point2D, tuple, object)"
      ]
     },
     "execution_count": 24,
     "metadata": {},
     "output_type": "execute_result"
    }
   ],
   "source": [
    "BasePoint2D.__mro__"
   ]
  },
  {
   "cell_type": "code",
   "execution_count": 26,
   "metadata": {},
   "outputs": [
    {
     "data": {
      "text/plain": [
       "True"
      ]
     },
     "execution_count": 26,
     "metadata": {},
     "output_type": "execute_result"
    }
   ],
   "source": [
    "isinstance(BasePoint2D, type)"
   ]
  },
  {
   "cell_type": "code",
   "execution_count": 27,
   "metadata": {
    "collapsed": true
   },
   "outputs": [],
   "source": [
    "p = Point2D(2, 3)"
   ]
  },
  {
   "cell_type": "code",
   "execution_count": 30,
   "metadata": {},
   "outputs": [
    {
     "data": {
      "text/plain": [
       "True"
      ]
     },
     "execution_count": 30,
     "metadata": {},
     "output_type": "execute_result"
    }
   ],
   "source": [
    "isinstance(p, Point2D)"
   ]
  },
  {
   "cell_type": "code",
   "execution_count": 31,
   "metadata": {},
   "outputs": [
    {
     "data": {
      "text/plain": [
       "(int, object)"
      ]
     },
     "execution_count": 31,
     "metadata": {},
     "output_type": "execute_result"
    }
   ],
   "source": [
    "int.__mro__"
   ]
  },
  {
   "cell_type": "code",
   "execution_count": 32,
   "metadata": {},
   "outputs": [
    {
     "data": {
      "text/plain": [
       "(type, object)"
      ]
     },
     "execution_count": 32,
     "metadata": {},
     "output_type": "execute_result"
    }
   ],
   "source": [
    "type.__mro__"
   ]
  },
  {
   "cell_type": "code",
   "execution_count": 33,
   "metadata": {
    "collapsed": true
   },
   "outputs": [],
   "source": [
    "g = BasePoint2D"
   ]
  },
  {
   "cell_type": "code",
   "execution_count": 36,
   "metadata": {},
   "outputs": [
    {
     "data": {
      "text/plain": [
       "(type, object)"
      ]
     },
     "execution_count": 36,
     "metadata": {},
     "output_type": "execute_result"
    }
   ],
   "source": [
    "g.__class__.__mro__"
   ]
  },
  {
   "cell_type": "code",
   "execution_count": 50,
   "metadata": {
    "collapsed": true
   },
   "outputs": [],
   "source": [
    "collections.namedtuple??"
   ]
  },
  {
   "cell_type": "code",
   "execution_count": 48,
   "metadata": {},
   "outputs": [
    {
     "name": "stdout",
     "output_type": "stream",
     "text": [
      "from builtins import property as _property, tuple as _tuple\n",
      "from operator import itemgetter as _itemgetter\n",
      "from collections import OrderedDict\n",
      "\n",
      "class {typename}(tuple):\n",
      "    '{typename}({arg_list})'\n",
      "\n",
      "    __slots__ = ()\n",
      "\n",
      "    _fields = {field_names!r}\n",
      "\n",
      "    def __new__(_cls, {arg_list}):\n",
      "        'Create new instance of {typename}({arg_list})'\n",
      "        return _tuple.__new__(_cls, ({arg_list}))\n",
      "\n",
      "    @classmethod\n",
      "    def _make(cls, iterable, new=tuple.__new__, len=len):\n",
      "        'Make a new {typename} object from a sequence or iterable'\n",
      "        result = new(cls, iterable)\n",
      "        if len(result) != {num_fields:d}:\n",
      "            raise TypeError('Expected {num_fields:d} arguments, got %d' % len(result))\n",
      "        return result\n",
      "\n",
      "    def _replace(_self, **kwds):\n",
      "        'Return a new {typename} object replacing specified fields with new values'\n",
      "        result = _self._make(map(kwds.pop, {field_names!r}, _self))\n",
      "        if kwds:\n",
      "            raise ValueError('Got unexpected field names: %r' % list(kwds))\n",
      "        return result\n",
      "\n",
      "    def __repr__(self):\n",
      "        'Return a nicely formatted representation string'\n",
      "        return self.__class__.__name__ + '({repr_fmt})' % self\n",
      "\n",
      "    def _asdict(self):\n",
      "        'Return a new OrderedDict which maps field names to their values.'\n",
      "        return OrderedDict(zip(self._fields, self))\n",
      "\n",
      "    def __getnewargs__(self):\n",
      "        'Return self as a plain tuple.  Used by copy and pickle.'\n",
      "        return tuple(self)\n",
      "\n",
      "{field_defs}\n",
      "\n"
     ]
    }
   ],
   "source": [
    "print(collections._class_template)"
   ]
  },
  {
   "cell_type": "markdown",
   "metadata": {},
   "source": [
    "# `deque`"
   ]
  },
  {
   "cell_type": "code",
   "execution_count": 51,
   "metadata": {
    "collapsed": true
   },
   "outputs": [],
   "source": [
    "d = collections.deque('abcdefg')"
   ]
  },
  {
   "cell_type": "code",
   "execution_count": 52,
   "metadata": {},
   "outputs": [
    {
     "data": {
      "text/plain": [
       "deque(['a', 'b', 'c', 'd', 'e', 'f', 'g'])"
      ]
     },
     "execution_count": 52,
     "metadata": {},
     "output_type": "execute_result"
    }
   ],
   "source": [
    "d"
   ]
  },
  {
   "cell_type": "code",
   "execution_count": 53,
   "metadata": {},
   "outputs": [
    {
     "data": {
      "text/plain": [
       "7"
      ]
     },
     "execution_count": 53,
     "metadata": {},
     "output_type": "execute_result"
    }
   ],
   "source": [
    "len(d)"
   ]
  },
  {
   "cell_type": "code",
   "execution_count": 54,
   "metadata": {},
   "outputs": [
    {
     "data": {
      "text/plain": [
       "'a'"
      ]
     },
     "execution_count": 54,
     "metadata": {},
     "output_type": "execute_result"
    }
   ],
   "source": [
    "d[0]"
   ]
  },
  {
   "cell_type": "code",
   "execution_count": 55,
   "metadata": {},
   "outputs": [
    {
     "data": {
      "text/plain": [
       "'g'"
      ]
     },
     "execution_count": 55,
     "metadata": {},
     "output_type": "execute_result"
    }
   ],
   "source": [
    "d[-1]"
   ]
  },
  {
   "cell_type": "code",
   "execution_count": 56,
   "metadata": {
    "collapsed": true
   },
   "outputs": [],
   "source": [
    "d.remove('c')"
   ]
  },
  {
   "cell_type": "code",
   "execution_count": 57,
   "metadata": {},
   "outputs": [
    {
     "data": {
      "text/plain": [
       "deque(['a', 'b', 'd', 'e', 'f', 'g'])"
      ]
     },
     "execution_count": 57,
     "metadata": {},
     "output_type": "execute_result"
    }
   ],
   "source": [
    "d"
   ]
  },
  {
   "cell_type": "code",
   "execution_count": 58,
   "metadata": {},
   "outputs": [
    {
     "data": {
      "text/plain": [
       "deque(['a', 'b', 'd', 'e', 'f', 'g', 'h'])"
      ]
     },
     "execution_count": 58,
     "metadata": {},
     "output_type": "execute_result"
    }
   ],
   "source": [
    "d.append('h')\n",
    "d"
   ]
  },
  {
   "cell_type": "code",
   "execution_count": 59,
   "metadata": {
    "collapsed": true
   },
   "outputs": [],
   "source": [
    "d.appendleft('aa')"
   ]
  },
  {
   "cell_type": "code",
   "execution_count": 60,
   "metadata": {},
   "outputs": [
    {
     "data": {
      "text/plain": [
       "deque(['aa', 'a', 'b', 'd', 'e', 'f', 'g', 'h'])"
      ]
     },
     "execution_count": 60,
     "metadata": {},
     "output_type": "execute_result"
    }
   ],
   "source": [
    "d"
   ]
  },
  {
   "cell_type": "code",
   "execution_count": 61,
   "metadata": {},
   "outputs": [
    {
     "data": {
      "text/plain": [
       "'h'"
      ]
     },
     "execution_count": 61,
     "metadata": {},
     "output_type": "execute_result"
    }
   ],
   "source": [
    "d.pop()"
   ]
  },
  {
   "cell_type": "code",
   "execution_count": 62,
   "metadata": {},
   "outputs": [
    {
     "data": {
      "text/plain": [
       "deque(['aa', 'a', 'b', 'd', 'e', 'f', 'g'])"
      ]
     },
     "execution_count": 62,
     "metadata": {},
     "output_type": "execute_result"
    }
   ],
   "source": [
    "d"
   ]
  },
  {
   "cell_type": "code",
   "execution_count": 63,
   "metadata": {},
   "outputs": [
    {
     "data": {
      "text/plain": [
       "'aa'"
      ]
     },
     "execution_count": 63,
     "metadata": {},
     "output_type": "execute_result"
    }
   ],
   "source": [
    "d.popleft()"
   ]
  },
  {
   "cell_type": "code",
   "execution_count": 64,
   "metadata": {},
   "outputs": [
    {
     "data": {
      "text/plain": [
       "deque(['a', 'b', 'd', 'e', 'f', 'g'])"
      ]
     },
     "execution_count": 64,
     "metadata": {},
     "output_type": "execute_result"
    }
   ],
   "source": [
    "d"
   ]
  },
  {
   "cell_type": "code",
   "execution_count": 66,
   "metadata": {
    "collapsed": true
   },
   "outputs": [],
   "source": [
    "collections.deque??"
   ]
  },
  {
   "cell_type": "code",
   "execution_count": 67,
   "metadata": {},
   "outputs": [
    {
     "name": "stdout",
     "output_type": "stream",
     "text": [
      "2.6 µs ± 43.7 ns per loop (mean ± std. dev. of 7 runs, 100000 loops each)\n"
     ]
    }
   ],
   "source": [
    "%timeit str(d)"
   ]
  },
  {
   "cell_type": "code",
   "execution_count": 68,
   "metadata": {},
   "outputs": [
    {
     "name": "stdout",
     "output_type": "stream",
     "text": [
      "5.21 µs ± 16.6 ns per loop (mean ± std. dev. of 7 runs, 100000 loops each)\n"
     ]
    }
   ],
   "source": [
    "%%timeit\n",
    "str(d)\n",
    "str(d)"
   ]
  },
  {
   "cell_type": "code",
   "execution_count": 77,
   "metadata": {
    "collapsed": true
   },
   "outputs": [],
   "source": [
    "from collections import deque\n",
    "\n",
    "def moving_average_1(l, n=3):\n",
    "    d = deque(l[:n-1])\n",
    "    d.appendleft(0)\n",
    "    s = sum(d)\n",
    "    res = []\n",
    "    for elem in l[n-1:]:\n",
    "        s += elem - d.popleft()\n",
    "        d.append(elem)\n",
    "        res.append(s / float(n))\n",
    "    return res\n",
    "\n",
    "def moving_average_2(l, n=3):\n",
    "    l = iter(l)\n",
    "    d = deque()\n",
    "    s = 0\n",
    "    \n",
    "    res = []\n",
    "    \n",
    "    for i in range(n):\n",
    "        el = next(l)\n",
    "        d.append(el)\n",
    "        s += el\n",
    "        \n",
    "    for el in l:\n",
    "        res.append(s / n)\n",
    "        s -= d.popleft()\n",
    "        s += el\n",
    "        d.append(el)\n",
    "        \n",
    "    return res\n",
    "\n",
    "def moving_average_3(l, n=3):\n",
    "    max_i = len(l) - n + 1\n",
    "    result_list = []\n",
    "\n",
    "    for i in range(0, max_i):\n",
    "        sum = 0\n",
    "        for index in range(i, i+n):\n",
    "            sum += l[index]\n",
    "\n",
    "        result_list.append(sum / n)\n",
    "    \n",
    "    return result_list\n",
    "\n",
    "def moving_average_4(l, n=3):\n",
    "    return_list = []\n",
    "    scope = deque()\n",
    "    prev_sum = None\n",
    "    for i in l:\n",
    "        scope.append(i)\n",
    "        if len(scope) == n and not prev_sum:\n",
    "            prev_sum = sum(scope)\n",
    "            return_list.append(prev_sum / n)\n",
    "            continue\n",
    "        if len(scope) < n:\n",
    "            continue\n",
    "        prev_sum -= scope.popleft()\n",
    "        prev_sum += scope[-1]\n",
    "        return_list.append(prev_sum / n)\n",
    "    return return_list\n",
    "\n",
    "def moving_average_5(a, n=3):\n",
    "    it = iter(a)\n",
    "    x = []\n",
    "    p = 0\n",
    "    for i in range(n):\n",
    "        x.append(next(it))\n",
    "    s = sum(x)\n",
    "    for i in it:\n",
    "        yield s / n\n",
    "        s -= x[p]\n",
    "        s += i\n",
    "        x[p] = i\n",
    "        p += 1\n",
    "        p %= n\n",
    "    yield s / n\n",
    "    \n",
    "import itertools\n",
    "from collections import deque\n",
    "    \n",
    "def moving_average_pydoc(iterable, n=3):\n",
    "    # moving_average([40, 30, 50, 46, 39, 44]) --> 40.0 42.0 45.0 43.0\n",
    "    # http://en.wikipedia.org/wiki/Moving_average\n",
    "    it = iter(iterable)\n",
    "    d = deque(itertools.islice(it, n-1))\n",
    "    d.appendleft(0)\n",
    "    s = sum(d)\n",
    "    for elem in it:\n",
    "        s += elem - d.popleft()\n",
    "        d.append(elem)\n",
    "        yield s / n"
   ]
  },
  {
   "cell_type": "code",
   "execution_count": 72,
   "metadata": {},
   "outputs": [
    {
     "name": "stdout",
     "output_type": "stream",
     "text": [
      "8.67 µs ± 54.4 ns per loop (mean ± std. dev. of 7 runs, 100000 loops each)\n",
      "5.58 µs ± 14.7 ns per loop (mean ± std. dev. of 7 runs, 100000 loops each)\n",
      "7.1 µs ± 45.1 ns per loop (mean ± std. dev. of 7 runs, 100000 loops each)\n",
      "6.81 µs ± 36.7 ns per loop (mean ± std. dev. of 7 runs, 100000 loops each)\n",
      "7.56 µs ± 47.4 ns per loop (mean ± std. dev. of 7 runs, 100000 loops each)\n"
     ]
    }
   ],
   "source": [
    "l = [40, 30, 50, 46, 39, 44]\n",
    "n = 3\n",
    "%timeit moving_average_1(l, n)\n",
    "%timeit moving_average_2(l, n)\n",
    "%timeit moving_average_3(l, n)\n",
    "%timeit moving_average_4(l, n)\n",
    "%timeit list(moving_average_5(l, n))\n",
    "%timeit moving_average_1(l, n)"
   ]
  },
  {
   "cell_type": "code",
   "execution_count": 73,
   "metadata": {},
   "outputs": [
    {
     "name": "stdout",
     "output_type": "stream",
     "text": [
      "9.07 µs ± 500 ns per loop (mean ± std. dev. of 7 runs, 100000 loops each)\n",
      "5.64 µs ± 48.9 ns per loop (mean ± std. dev. of 7 runs, 100000 loops each)\n",
      "7.18 µs ± 32.4 ns per loop (mean ± std. dev. of 7 runs, 100000 loops each)\n",
      "6.78 µs ± 47 ns per loop (mean ± std. dev. of 7 runs, 100000 loops each)\n",
      "7.51 µs ± 118 ns per loop (mean ± std. dev. of 7 runs, 100000 loops each)\n",
      "8.6 µs ± 28.1 ns per loop (mean ± std. dev. of 7 runs, 100000 loops each)\n"
     ]
    }
   ],
   "source": [
    "l = [40, 30, 50, 46, 39, 44]\n",
    "n = 3\n",
    "%timeit moving_average_1(l, n)\n",
    "%timeit moving_average_2(l, n)\n",
    "%timeit moving_average_3(l, n)\n",
    "%timeit moving_average_4(l, n)\n",
    "%timeit list(moving_average_5(l, n))\n",
    "%timeit moving_average_1(l, n)"
   ]
  },
  {
   "cell_type": "code",
   "execution_count": 78,
   "metadata": {},
   "outputs": [
    {
     "name": "stdout",
     "output_type": "stream",
     "text": [
      "578 µs ± 5.32 µs per loop (mean ± std. dev. of 7 runs, 1000 loops each)\n"
     ]
    }
   ],
   "source": [
    "l = list(range(200, 1200))\n",
    "n = 100\n",
    "%timeit list(moving_average_pydoc(l, n))"
   ]
  },
  {
   "cell_type": "markdown",
   "metadata": {},
   "source": [
    "# `Counter` & `defaultdict`"
   ]
  },
  {
   "cell_type": "code",
   "execution_count": 79,
   "metadata": {},
   "outputs": [
    {
     "name": "stdout",
     "output_type": "stream",
     "text": [
      "{'!': 1, 'P': 1, 'l': 3, 'e': 5, ' ': 2, 't': 1, 'H': 1, 'h': 1, 'o': 2, 'p': 1, ',': 1, 'r': 1}\n"
     ]
    }
   ],
   "source": [
    "counter = {}\n",
    "for char in \"Hello there, People!\":\n",
    "    if char not in counter:\n",
    "        counter[char] = 1\n",
    "    else:\n",
    "        counter[char] += 1\n",
    "print(counter)"
   ]
  },
  {
   "cell_type": "code",
   "execution_count": 80,
   "metadata": {},
   "outputs": [
    {
     "name": "stdout",
     "output_type": "stream",
     "text": [
      "Counter({'e': 5, 'l': 3, ' ': 2, 'o': 2, '!': 1, 'P': 1, 't': 1, 'H': 1, 'h': 1, 'p': 1, ',': 1, 'r': 1})\n"
     ]
    }
   ],
   "source": [
    "from collections import Counter\n",
    "counter = Counter(\"Hello there, People!\")\n",
    "print(counter)"
   ]
  },
  {
   "cell_type": "code",
   "execution_count": 82,
   "metadata": {},
   "outputs": [
    {
     "data": {
      "text/plain": [
       "[('e', 5), ('l', 3), (' ', 2), ('o', 2), ('!', 1)]"
      ]
     },
     "execution_count": 82,
     "metadata": {},
     "output_type": "execute_result"
    }
   ],
   "source": [
    "counter.most_common(5)"
   ]
  },
  {
   "cell_type": "code",
   "execution_count": 83,
   "metadata": {},
   "outputs": [
    {
     "name": "stdout",
     "output_type": "stream",
     "text": [
      "Counter({42: 3, 1: 1})\n"
     ]
    }
   ],
   "source": [
    "counter = Counter([42, 42, 42, 1])\n",
    "print(counter)"
   ]
  },
  {
   "cell_type": "code",
   "execution_count": 84,
   "metadata": {},
   "outputs": [
    {
     "data": {
      "text/plain": [
       "dict_items([('red', [1]), ('blue', [2, 4]), ('yellow', [1, 3])])"
      ]
     },
     "execution_count": 84,
     "metadata": {},
     "output_type": "execute_result"
    }
   ],
   "source": [
    "s = [('yellow', 1), ('blue', 2), ('yellow', 3), ('blue', 4), ('red', 1)]\n",
    "res = {}\n",
    "for color, item in s:\n",
    "    if color in res:\n",
    "        res[color].append(item)\n",
    "    else:\n",
    "        res[color] = [item, ]\n",
    "\n",
    "res.items()"
   ]
  },
  {
   "cell_type": "code",
   "execution_count": 85,
   "metadata": {},
   "outputs": [
    {
     "name": "stdout",
     "output_type": "stream",
     "text": [
      "defaultdict(<class 'list'>, {'red': [1], 'blue': [2, 4], 'yellow': [1, 3]})\n"
     ]
    }
   ],
   "source": [
    "from collections import defaultdict\n",
    "\n",
    "s = [('yellow', 1), ('blue', 2), ('yellow', 3), ('blue', 4), ('red', 1)]\n",
    "d = defaultdict(list)\n",
    "for k, v in s:\n",
    "    d[k].append(v)\n",
    "\n",
    "print(d)"
   ]
  },
  {
   "cell_type": "code",
   "execution_count": 86,
   "metadata": {},
   "outputs": [
    {
     "data": {
      "text/plain": [
       "{'blue': 4, 'red': 1, 'yellow': 3}"
      ]
     },
     "execution_count": 86,
     "metadata": {},
     "output_type": "execute_result"
    }
   ],
   "source": [
    "dict(s)"
   ]
  },
  {
   "cell_type": "markdown",
   "metadata": {},
   "source": [
    "# OrderedDict"
   ]
  },
  {
   "cell_type": "code",
   "execution_count": 87,
   "metadata": {
    "collapsed": true
   },
   "outputs": [],
   "source": [
    "from collections import OrderedDict"
   ]
  },
  {
   "cell_type": "code",
   "execution_count": 88,
   "metadata": {},
   "outputs": [
    {
     "name": "stdout",
     "output_type": "stream",
     "text": [
      "c\n",
      "b\n",
      "a\n"
     ]
    }
   ],
   "source": [
    "d = OrderedDict()\n",
    "d['c'] = 1\n",
    "d['b'] = 2\n",
    "d['a'] = 1\n",
    "for k in d:\n",
    "    print(k)"
   ]
  },
  {
   "cell_type": "code",
   "execution_count": 89,
   "metadata": {},
   "outputs": [
    {
     "data": {
      "text/plain": [
       "('a', 1)"
      ]
     },
     "execution_count": 89,
     "metadata": {},
     "output_type": "execute_result"
    }
   ],
   "source": [
    "d.popitem()"
   ]
  },
  {
   "cell_type": "code",
   "execution_count": 90,
   "metadata": {},
   "outputs": [
    {
     "data": {
      "text/plain": [
       "('c', 1)"
      ]
     },
     "execution_count": 90,
     "metadata": {},
     "output_type": "execute_result"
    }
   ],
   "source": [
    "d.popitem(last=False)"
   ]
  }
 ],
 "metadata": {
  "kernelspec": {
   "display_name": "Python 3",
   "language": "python",
   "name": "python3"
  },
  "language_info": {
   "codemirror_mode": {
    "name": "ipython",
    "version": 3
   },
   "file_extension": ".py",
   "mimetype": "text/x-python",
   "name": "python",
   "nbconvert_exporter": "python",
   "pygments_lexer": "ipython3",
   "version": "3.5.3"
  }
 },
 "nbformat": 4,
 "nbformat_minor": 2
}
